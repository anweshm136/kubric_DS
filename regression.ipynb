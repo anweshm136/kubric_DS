{
 "metadata": {
  "language_info": {
   "codemirror_mode": {
    "name": "ipython",
    "version": 3
   },
   "file_extension": ".py",
   "mimetype": "text/x-python",
   "name": "python",
   "nbconvert_exporter": "python",
   "pygments_lexer": "ipython3",
   "version": "3.7.7-final"
  },
  "orig_nbformat": 2,
  "kernelspec": {
   "name": "python3",
   "display_name": "Python 3"
  }
 },
 "nbformat": 4,
 "nbformat_minor": 2,
 "cells": [
  {
   "cell_type": "code",
   "execution_count": 4,
   "metadata": {},
   "outputs": [],
   "source": [
    "import requests\n",
    "import pandas\n",
    "import scipy\n",
    "import numpy \n",
    "import sys\n",
    "import csv"
   ]
  },
  {
   "cell_type": "code",
   "execution_count": 5,
   "metadata": {},
   "outputs": [],
   "source": [
    "def predict_price(area) -> float:\n",
    "    \"\"\"\n",
    "    This method must accept as input an array `area` (represents a list of areas sizes in sq feet) and must return the respective predicted prices (price per sq foot) using the linear regression model that you build.\n",
    "\n",
    "    You can run this program from the command line using `python3 regression.py`.\n",
    "    \"\"\"\n",
    "    #response = requests.get(TRAIN_DATA_URL)\n",
    "    # YOUR IMPLEMENTATION HERE\n",
    "    from scipy import stats\n",
    "    train_data=[]\n",
    "    train_label=[]\n",
    "    with open('linreg_train.csv') as csvfile:\n",
    "        readCSV=csv.reader(csvfile,delimiter=',')\n",
    "        i=0\n",
    "        for row in readCSV:\n",
    "            if i==0:\n",
    "                train_data.append(row[1:])\n",
    "                i=i+1\n",
    "            else:\n",
    "                train_label.append(row[1:])      \n",
    "    train_data=numpy.reshape(train_data,len(train_data[0]))\n",
    "    train_label=numpy.reshape(train_label,len(train_label[0]))\n",
    "    train_label=[float(i) for i in train_label]\n",
    "    train_data=[float(i) for i in train_data]\n",
    "\n",
    "    slope,intercept,r_value,p_value,std_err=scipy.stats.linregress(train_data,train_label)\n",
    "\n",
    "    price=intercept+slope*area\n",
    "    return price"
   ]
  },
  {
   "cell_type": "code",
   "execution_count": 6,
   "metadata": {},
   "outputs": [
    {
     "output_type": "stream",
     "name": "stdout",
     "text": [
      "Success. RMSE = 144.8900984168422\n"
     ]
    }
   ],
   "source": [
    "if __name__ == \"__main__\":\n",
    "    # DO NOT CHANGE THE FOLLOWING CODE\n",
    "    from data import validation_data\n",
    "    areas = numpy.array(list(validation_data.keys()))\n",
    "    prices = numpy.array(list(validation_data.values()))\n",
    "    predicted_prices = predict_price(areas)\n",
    "    rmse = numpy.sqrt(numpy.mean((predicted_prices - prices) ** 2))\n",
    "    try:\n",
    "        assert rmse < 170\n",
    "    except AssertionError:\n",
    "        print(f\"Root mean squared error is too high - {rmse}. Expected it to be under 170\")\n",
    "        sys.exit(1)\n",
    "    print(f\"Success. RMSE = {rmse}\")\n"
   ]
  },
  {
   "cell_type": "code",
   "execution_count": null,
   "metadata": {},
   "outputs": [],
   "source": []
  }
 ]
}